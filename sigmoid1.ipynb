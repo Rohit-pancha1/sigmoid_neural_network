{
 "cells": [
  {
   "cell_type": "code",
   "execution_count": 1,
   "id": "24ee601b-f70f-4ec2-b703-2927da4db887",
   "metadata": {},
   "outputs": [],
   "source": [
    "import numpy as np"
   ]
  },
  {
   "cell_type": "code",
   "execution_count": 2,
   "id": "96d7b9ed-e40a-4727-82de-ef70d6e06db5",
   "metadata": {},
   "outputs": [],
   "source": [
    "#activation function\n",
    "def sigmoid(x):\n",
    "    return(1/(1+np.exp(-x)))"
   ]
  },
  {
   "cell_type": "code",
   "execution_count": 3,
   "id": "eb120c4d-9146-4fb5-a1d5-15af74eadc8d",
   "metadata": {},
   "outputs": [],
   "source": [
    "def s_der(x):\n",
    "    return (x*(1-x))"
   ]
  },
  {
   "cell_type": "code",
   "execution_count": 4,
   "id": "5127ba00-6ec3-4def-b6b6-f87595b1160a",
   "metadata": {},
   "outputs": [],
   "source": [
    "# inputs\n",
    "input = np.array(\n",
    "    [\n",
    "        [1,0,1],\n",
    "        [1,1,1],\n",
    "        [0,1,1],\n",
    "        [0,0,1]\n",
    "    ]\n",
    ")"
   ]
  },
  {
   "cell_type": "code",
   "execution_count": 5,
   "id": "4e58a6ea-c20c-42e4-aa7d-246e68d0d700",
   "metadata": {},
   "outputs": [
    {
     "data": {
      "text/plain": [
       "array([[1],\n",
       "       [1],\n",
       "       [0],\n",
       "       [0]])"
      ]
     },
     "execution_count": 5,
     "metadata": {},
     "output_type": "execute_result"
    }
   ],
   "source": [
    "t_output = np.array([[1,1,0,0]]).T\n",
    "t_output"
   ]
  },
  {
   "cell_type": "code",
   "execution_count": 6,
   "id": "08332dd9-68c4-4c48-b858-a661e43b59eb",
   "metadata": {},
   "outputs": [
    {
     "data": {
      "text/plain": [
       "array([[1],\n",
       "       [1],\n",
       "       [0],\n",
       "       [0]])"
      ]
     },
     "execution_count": 6,
     "metadata": {},
     "output_type": "execute_result"
    }
   ],
   "source": [
    "t_out = np.array([\n",
    "    [1],\n",
    "    [1],\n",
    "    [0],\n",
    "    [0]\n",
    "]\n",
    ")\n",
    "t_out"
   ]
  },
  {
   "cell_type": "code",
   "execution_count": 7,
   "id": "aad9866e-c08e-4fb8-b345-773e0de68733",
   "metadata": {},
   "outputs": [
    {
     "data": {
      "text/plain": [
       "array([[-0.56057552],\n",
       "       [ 0.93487929],\n",
       "       [-0.73583384]])"
      ]
     },
     "execution_count": 7,
     "metadata": {},
     "output_type": "execute_result"
    }
   ],
   "source": [
    "weights = 2*np.random.random((3,1)) - 1\n",
    "weights"
   ]
  },
  {
   "cell_type": "code",
   "execution_count": 8,
   "id": "41fafb2b-026f-4334-a3cb-083f4279cf11",
   "metadata": {},
   "outputs": [],
   "source": [
    "for iter in range(1):\n",
    "    output = sigmoid(np.dot(input, weights))"
   ]
  },
  {
   "cell_type": "code",
   "execution_count": 13,
   "id": "6732f8b0-c7f7-4b0e-b0f4-408df9ebef8e",
   "metadata": {},
   "outputs": [],
   "source": [
    "for i in range(10000):\n",
    "    output = sigmoid(np.dot(input, weights))\n",
    "    error = t_output-output\n",
    "    upd = error*s_der(output)\n",
    "    weights += np.dot(input.T, upd)"
   ]
  },
  {
   "cell_type": "code",
   "execution_count": 14,
   "id": "97aafa93-b8bc-4925-8b45-25c088e1682f",
   "metadata": {},
   "outputs": [
    {
     "data": {
      "text/plain": [
       "array([[1.],\n",
       "       [1.],\n",
       "       [0.],\n",
       "       [0.]])"
      ]
     },
     "execution_count": 14,
     "metadata": {},
     "output_type": "execute_result"
    }
   ],
   "source": [
    "np.round(output)"
   ]
  },
  {
   "cell_type": "code",
   "execution_count": 15,
   "id": "e5f9a400-4c32-4bc6-a02b-08697f90c37f",
   "metadata": {},
   "outputs": [
    {
     "data": {
      "text/plain": [
       "array([[0.99359114],\n",
       "       [0.99212315],\n",
       "       [0.00786222],\n",
       "       [0.00965989]])"
      ]
     },
     "execution_count": 15,
     "metadata": {},
     "output_type": "execute_result"
    }
   ],
   "source": [
    "output"
   ]
  },
  {
   "cell_type": "code",
   "execution_count": 16,
   "id": "a97b7e9f-c509-46fe-abd5-53560a533bff",
   "metadata": {},
   "outputs": [
    {
     "data": {
      "text/plain": [
       "1.0"
      ]
     },
     "execution_count": 16,
     "metadata": {},
     "output_type": "execute_result"
    }
   ],
   "source": [
    "sigmoid(6459000000000)"
   ]
  },
  {
   "cell_type": "code",
   "execution_count": null,
   "id": "67c6d9ae-600e-42df-95fd-ef8dc4bd498f",
   "metadata": {},
   "outputs": [],
   "source": []
  }
 ],
 "metadata": {
  "kernelspec": {
   "display_name": "Python 3 (ipykernel)",
   "language": "python",
   "name": "python3"
  },
  "language_info": {
   "codemirror_mode": {
    "name": "ipython",
    "version": 3
   },
   "file_extension": ".py",
   "mimetype": "text/x-python",
   "name": "python",
   "nbconvert_exporter": "python",
   "pygments_lexer": "ipython3",
   "version": "3.11.5"
  }
 },
 "nbformat": 4,
 "nbformat_minor": 5
}
